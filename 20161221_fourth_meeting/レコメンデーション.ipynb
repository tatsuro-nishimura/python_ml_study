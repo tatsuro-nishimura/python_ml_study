{
 "cells": [
  {
   "cell_type": "code",
   "execution_count": null,
   "metadata": {
    "collapsed": true
   },
   "outputs": [],
   "source": [
    "%matplotlib inline\n",
    "from __future__ import print_function\n",
    "\n",
    "try:\n",
    "    xrange\n",
    "except NameError:\n",
    "    xrange = range\n",
    "\n",
    "import pandas as pd\n",
    "import numpy as np\n",
    "import scipy.spatial as sp\n",
    "import scipy.sparse as sparse\n",
    "import matplotlib.pyplot as plt\n",
    "import scipy.sparse as sparse\n",
    "from sklearn.decomposition import NMF, TruncatedSVD"
   ]
  },
  {
   "cell_type": "markdown",
   "metadata": {},
   "source": [
    "<h2>レコメンデーション</h2>\n",
    "\n",
    "レコメンデーションの最も一般的なアルゴリズムである協調フィルタリングを紹介します。\n",
    "まずは簡単なダミーデータで説明していきます。"
   ]
  },
  {
   "cell_type": "code",
   "execution_count": null,
   "metadata": {
    "collapsed": false
   },
   "outputs": [],
   "source": [
    "rating_matrix = np.array([[ 2, 5, 1, 1, 0, 1, 2, 4],\n",
    "                   [ 1, 5, 2, 1, 4, 0, 0, 3],\n",
    "                   [ 0, 3, 3, 0, 1, 1, 1, 1],\n",
    "                   [ 5, 2, 2, 3, 1, 0, 0, 4],\n",
    "                   [ 5, 3, 3, 4, 1, 0, 0, 5],\n",
    "                   [ 1, 4, 3, 2, 5, 1, 0, 1],\n",
    "                   [ 0, 0, 0, 0, 0, 0, 0, 2],\n",
    "                   [ 0, 4, 0, 0, 0, 0, 0, 0]])"
   ]
  },
  {
   "cell_type": "markdown",
   "metadata": {},
   "source": [
    "1行目のユーザーと似ているユーザーを探しましょう。"
   ]
  },
  {
   "cell_type": "code",
   "execution_count": null,
   "metadata": {
    "collapsed": false
   },
   "outputs": [],
   "source": [
    "user_similarity = []\n",
    "for i in range(len(rating_matrix)):\n",
    "    #cosine類似度　= 1 - cosine距離\n",
    "    sim = 1 - sp.distance.cosine(rating_matrix[0], rating_matrix[i])\n",
    "    user_similarity.append(sim)\n",
    "\n",
    "user_similarity = np.array(user_similarity)\n",
    "user_similarity"
   ]
  },
  {
   "cell_type": "markdown",
   "metadata": {},
   "source": [
    "topNで指定した類似度の高いユーザーを探しましょう。"
   ]
  },
  {
   "cell_type": "code",
   "execution_count": null,
   "metadata": {
    "collapsed": false
   },
   "outputs": [],
   "source": [
    "topN = 4\n",
    "idx = np.argsort(user_similarity)[:-topN-2:-1][1:]\n",
    "selected_user_similarity = user_similarity[idx]\n",
    "selected_rating = rating_matrix[idx]"
   ]
  },
  {
   "cell_type": "markdown",
   "metadata": {},
   "source": [
    "どの商品をオススメするか？ここでは平均類似度を使ってみましょう。"
   ]
  },
  {
   "cell_type": "code",
   "execution_count": null,
   "metadata": {
    "collapsed": false
   },
   "outputs": [],
   "source": [
    "avg_score = []\n",
    "for col_idx in range(selected_rating.shape[1]):\n",
    "    weight_score = sum(selected_rating[:, col_idx] * selected_user_similarity)\n",
    "    similarity_sum = sum(selected_user_similarity[selected_user_similarity > 0])\n",
    "    avg_score.append(weight_score/similarity_sum)\n",
    "for i, v in enumerate(avg_score):\n",
    "    print(str(i)+\"th item  \", v)"
   ]
  },
  {
   "cell_type": "markdown",
   "metadata": {},
   "source": [
    "上記だと具体的な商品名がないので、わかりにくいですよね（でも雰囲気は伝わりましたか？）。もう少し具体的なデータでやってみましょう。"
   ]
  },
  {
   "cell_type": "markdown",
   "metadata": {},
   "source": [
    "<h2>某ニュースアプリのテーマのフォロー状況を模したデータで協調フィルタリング</h2>\n",
    "\n",
    "datasetフォルダにあるuser_topic_follow_dummy.csvを読み込みましょう。"
   ]
  },
  {
   "cell_type": "code",
   "execution_count": null,
   "metadata": {
    "collapsed": false
   },
   "outputs": [],
   "source": [
    "data = pd.read_csv(\"dataset/user_topic_follow_dummy.csv\", encoding=\"utf8\")\n",
    "data.drop_duplicates(keep=\"last\", inplace=True)\n",
    "print(data.shape)\n",
    "data.head()"
   ]
  },
  {
   "cell_type": "markdown",
   "metadata": {},
   "source": [
    "この後、Pandasのpivotを使って、User x Itemの行列を作りますので、ratingの列を新たに作成し、１.0を格納しておきます。"
   ]
  },
  {
   "cell_type": "code",
   "execution_count": null,
   "metadata": {
    "collapsed": false
   },
   "outputs": [],
   "source": [
    "data[\"rating\"] = 1.0"
   ]
  },
  {
   "cell_type": "markdown",
   "metadata": {},
   "source": [
    "実際に User x Itemの行列を作成します。"
   ]
  },
  {
   "cell_type": "code",
   "execution_count": null,
   "metadata": {
    "collapsed": false
   },
   "outputs": [],
   "source": [
    "rating_matrix = data.pivot( index=\"user_id\", columns=\"topic_name\", values=\"rating\")\n",
    "rating_matrix.fillna(0, inplace=True)\n",
    "topic_list = np.array(rating_matrix.columns)\n",
    "user_list = np.array(rating_matrix.index)\n",
    "rating_matrix_ar = np.array(rating_matrix)"
   ]
  },
  {
   "cell_type": "markdown",
   "metadata": {},
   "source": [
    "さて、user_id=1の方に対するオススメトピックを探してみましょう。"
   ]
  },
  {
   "cell_type": "code",
   "execution_count": null,
   "metadata": {
    "collapsed": false
   },
   "outputs": [],
   "source": [
    "already_followed_topic = np.array(data[data[\"user_id\"] == user_list[0]][\"topic_name\"])\n",
    "data[data[\"user_id\"] == user_list[0]]"
   ]
  },
  {
   "cell_type": "markdown",
   "metadata": {},
   "source": [
    "実際にユーザーごとの類似度を計算しましょう。"
   ]
  },
  {
   "cell_type": "code",
   "execution_count": null,
   "metadata": {
    "collapsed": false
   },
   "outputs": [],
   "source": [
    "def get_cosine_similarity(x, y):\n",
    "    return 1 - sp.distance.cosine(x, y)"
   ]
  },
  {
   "cell_type": "code",
   "execution_count": null,
   "metadata": {
    "collapsed": false
   },
   "outputs": [],
   "source": [
    "user_similarity = []\n",
    "target_user_row = rating_matrix_ar[0]\n",
    "for row in rating_matrix_ar:\n",
    "    sim = get_cosine_similarity(target_user_row, row)\n",
    "    user_similarity.append(sim)\n",
    "user_similarity = np.array(user_similarity)"
   ]
  },
  {
   "cell_type": "markdown",
   "metadata": {},
   "source": [
    "類似度の高いユーザーTopNを抽出します。"
   ]
  },
  {
   "cell_type": "code",
   "execution_count": null,
   "metadata": {
    "collapsed": false
   },
   "outputs": [],
   "source": [
    "topN = 20\n",
    "idx = user_similarity.argsort()[::-1][:topN]\n",
    "selected_user_similarity = user_similarity[idx]\n",
    "selected_rating = rating_matrix_ar[idx]"
   ]
  },
  {
   "cell_type": "markdown",
   "metadata": {},
   "source": [
    "平均類似度を計算しましょう。"
   ]
  },
  {
   "cell_type": "code",
   "execution_count": null,
   "metadata": {
    "collapsed": false
   },
   "outputs": [],
   "source": [
    "avg_score = []\n",
    "for col_idx in range(selected_rating.shape[1]):\n",
    "    weight_score = sum(selected_rating[:, col_idx] * selected_user_similarity)\n",
    "    similarity_sum = sum(selected_user_similarity[selected_user_similarity > 0])\n",
    "    avg_score.append(weight_score/similarity_sum)\n",
    "avg_score = np.array(avg_score)"
   ]
  },
  {
   "cell_type": "markdown",
   "metadata": {},
   "source": [
    "そして、平均類似度の高い上位10テーマをオススメとして表示させます。"
   ]
  },
  {
   "cell_type": "code",
   "execution_count": null,
   "metadata": {
    "collapsed": false
   },
   "outputs": [],
   "source": [
    "recommend_num = 10\n",
    "counter = 0\n",
    "for recommended_topic in topic_list[avg_score.argsort()[::-1]]:\n",
    "    if recommended_topic not in already_followed_topic:\n",
    "        print(recommended_topic)\n",
    "        counter +=1\n",
    "        if recommend_num <= counter:\n",
    "            break\n",
    "        "
   ]
  },
  {
   "cell_type": "markdown",
   "metadata": {},
   "source": [
    "どうでしょうか？これを気に入ってくれそうですか？"
   ]
  },
  {
   "cell_type": "markdown",
   "metadata": {},
   "source": [
    "<h2>次元削減を行ってみましょう</h2>\n",
    "\n",
    "ここでは、以下2つの手法を紹介します。\n",
    "* SVD\n",
    "* Non Negative Matrix Factorization"
   ]
  },
  {
   "cell_type": "markdown",
   "metadata": {},
   "source": [
    "<h3>特異値分解(Singular Value Decomposition)による次元圧縮を使ったレコメンデーション</h3>"
   ]
  },
  {
   "cell_type": "markdown",
   "metadata": {},
   "source": [
    "まず、SVDを初期化します。"
   ]
  },
  {
   "cell_type": "code",
   "execution_count": null,
   "metadata": {
    "collapsed": true
   },
   "outputs": [],
   "source": [
    "svd = TruncatedSVD(n_components=10)"
   ]
  },
  {
   "cell_type": "markdown",
   "metadata": {},
   "source": [
    "Scipy Sparse行列にしておきます。"
   ]
  },
  {
   "cell_type": "code",
   "execution_count": null,
   "metadata": {
    "collapsed": true
   },
   "outputs": [],
   "source": [
    "rating_matrix_sparse = sparse.lil_matrix(rating_matrix_ar)"
   ]
  },
  {
   "cell_type": "markdown",
   "metadata": {},
   "source": [
    "データを適用させます。"
   ]
  },
  {
   "cell_type": "code",
   "execution_count": null,
   "metadata": {
    "collapsed": false
   },
   "outputs": [],
   "source": [
    "rating_matrix_svd = svd.fit_transform(rating_matrix_sparse)"
   ]
  },
  {
   "cell_type": "markdown",
   "metadata": {},
   "source": [
    "あとは、前回と同じです。似ているユーザーを探して平均類似度の高いトピックをお勧めしましょう。"
   ]
  },
  {
   "cell_type": "code",
   "execution_count": null,
   "metadata": {
    "collapsed": false
   },
   "outputs": [],
   "source": [
    "user_similarity = []\n",
    "target_user_svd = rating_matrix_svd[0]\n",
    "for row in rating_matrix_svd:\n",
    "    sim = get_cosine_similarity(target_user_svd, row)\n",
    "    user_similarity.append(sim)\n",
    "user_similarity = np.array(user_similarity)"
   ]
  },
  {
   "cell_type": "code",
   "execution_count": null,
   "metadata": {
    "collapsed": false
   },
   "outputs": [],
   "source": [
    "topN = 50\n",
    "idx = user_similarity.argsort()[::-1][:topN]\n",
    "selected_user_similarity = user_similarity[idx]\n",
    "selected_rating = rating_matrix_ar[idx]\n",
    "\n",
    "avg_score = []\n",
    "for col_idx in range(selected_rating.shape[1]):\n",
    "    weight_score = sum(selected_rating[:, col_idx] * selected_user_similarity)\n",
    "    similarity_sum = sum(selected_user_similarity[selected_user_similarity > 0])\n",
    "    avg_score.append(weight_score/similarity_sum)\n",
    "avg_score = np.array(avg_score)\n",
    "\n",
    "recommend_num = 10\n",
    "counter = 0\n",
    "for recommended_topic in topic_list[avg_score.argsort()[::-1]]:\n",
    "    if recommended_topic not in already_followed_topic:\n",
    "        print(recommended_topic)\n",
    "        counter +=1\n",
    "        if recommend_num <= counter:\n",
    "            break"
   ]
  },
  {
   "cell_type": "markdown",
   "metadata": {},
   "source": [
    "<h3>非負値行列分解(Non Negative Matrix Factorization)による次元圧縮を使ったレコメンデーション</h3>"
   ]
  },
  {
   "cell_type": "code",
   "execution_count": null,
   "metadata": {
    "collapsed": true
   },
   "outputs": [],
   "source": [
    "nmf = NMF(n_components=10)"
   ]
  },
  {
   "cell_type": "code",
   "execution_count": null,
   "metadata": {
    "collapsed": false
   },
   "outputs": [],
   "source": [
    "rating_matrix_nmf = nmf.fit_transform(rating_matrix_sparse)"
   ]
  },
  {
   "cell_type": "code",
   "execution_count": null,
   "metadata": {
    "collapsed": true
   },
   "outputs": [],
   "source": [
    "user_similarity = []\n",
    "target_user_svd = rating_matrix_nmf[0]\n",
    "for row in rating_matrix_svd:\n",
    "    sim = get_cosine_similarity(target_user_svd, row)\n",
    "    user_similarity.append(sim)\n",
    "user_similarity = np.array(user_similarity)"
   ]
  },
  {
   "cell_type": "code",
   "execution_count": null,
   "metadata": {
    "collapsed": false
   },
   "outputs": [],
   "source": [
    "topN = 50\n",
    "idx = user_similarity.argsort()[::-1][:topN]\n",
    "selected_user_similarity = user_similarity[idx]\n",
    "selected_rating = rating_matrix_ar[idx]\n",
    "\n",
    "avg_score = []\n",
    "for col_idx in range(selected_rating.shape[1]):\n",
    "    weight_score = sum(selected_rating[:, col_idx] * selected_user_similarity)\n",
    "    similarity_sum = sum(selected_user_similarity[selected_user_similarity > 0])\n",
    "    avg_score.append(weight_score/similarity_sum)\n",
    "avg_score = np.array(avg_score)\n",
    "\n",
    "recommend_num = 10\n",
    "counter = 0\n",
    "for recommended_topic in topic_list[avg_score.argsort()[::-1]]:\n",
    "    if recommended_topic not in already_followed_topic:\n",
    "        print(recommended_topic)\n",
    "        counter +=1\n",
    "        if recommend_num <= counter:\n",
    "            break"
   ]
  },
  {
   "cell_type": "code",
   "execution_count": null,
   "metadata": {
    "collapsed": true
   },
   "outputs": [],
   "source": []
  }
 ],
 "metadata": {
  "kernelspec": {
   "display_name": "Python 3",
   "language": "python",
   "name": "python3"
  },
  "language_info": {
   "codemirror_mode": {
    "name": "ipython",
    "version": 3
   },
   "file_extension": ".py",
   "mimetype": "text/x-python",
   "name": "python",
   "nbconvert_exporter": "python",
   "pygments_lexer": "ipython3",
   "version": "3.5.2"
  }
 },
 "nbformat": 4,
 "nbformat_minor": 1
}
