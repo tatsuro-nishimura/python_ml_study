{
 "cells": [
  {
   "cell_type": "markdown",
   "metadata": {},
   "source": [
    "# 経験（データ）によってタスクを解くときのパフォーマンスが改善する簡単な例"
   ]
  },
  {
   "cell_type": "markdown",
   "metadata": {},
   "source": [
    "## 前段の準備\n",
    "\n",
    "pythonのversion確認。このnotebookは2系でも3系でも動くように作ってあります。<br>\n",
    "また、環境によっては単位(locale)の設定などでmatplotlibがインストールされない場合もあるので、ここでは設定を確認し空ならば設定するようにしている。\n",
    "\n",
    "**これを実行してもエラーが出る場合はご自身で解決をお願いします。**"
   ]
  },
  {
   "cell_type": "code",
   "execution_count": 1,
   "metadata": {
    "collapsed": false
   },
   "outputs": [
    {
     "name": "stdout",
     "output_type": "stream",
     "text": [
      "Python 3.5.2 :: Anaconda 4.1.1 (x86_64)\r\n"
     ]
    }
   ],
   "source": [
    "!python -V"
   ]
  },
  {
   "cell_type": "code",
   "execution_count": 2,
   "metadata": {
    "collapsed": false
   },
   "outputs": [
    {
     "name": "stdout",
     "output_type": "stream",
     "text": [
      "Your default locale is None\n",
      "Your locale is set as ja_JP.UTF-8\n"
     ]
    }
   ],
   "source": [
    "import os\n",
    "\n",
    "def set_locale():\n",
    "    default = os.environ.get('LC_ALL')\n",
    "    print( \"Your default locale is\", default )\n",
    "    if default is None:\n",
    "        os.environ.setdefault('LC_ALL', 'ja_JP.UTF-8')\n",
    "        print( \"Your locale is set as ja_JP.UTF-8\" )\n",
    "\n",
    "set_locale()"
   ]
  },
  {
   "cell_type": "markdown",
   "metadata": {},
   "source": [
    "## 実際に確認\n",
    "\n",
    "機械学習が経験Eの蓄積によってあるタスクTを解いたときのパフォーマンスPが向上する最も簡単な例として線形回帰を考えます。<br>\n",
    "この場合、経験はデータ量、タスクが回帰式の係数を推測すること、パフォーマンスは回帰係数の誤差が小さいほど高い、という状況設定となります。<br>\n",
    "データ量が増加するにつれ正確に係数が推測される様子を見てみましょう。<br>\n",
    "\n",
    "我々は全知全能の神である状況を考え、データを生成する元が線形回帰 $ y = 5 x + \\mathcal{N}(0,9) $ であることを知っているとしましょう。\n",
    "ここで、 $ \\mathcal{N}(\\mu,\\sigma) $ は平均が $\\mu$ で分散が $\\sigma$ である正規分布です。\n",
    "この式からにデータを生成し、生成するデータ数が増加するとともに係数の推測精度が向上することを確認してみましょう。\n",
    "\n",
    "まず、データ数を10個生成する場合を見てみます。"
   ]
  },
  {
   "cell_type": "code",
   "execution_count": 3,
   "metadata": {
    "collapsed": false
   },
   "outputs": [],
   "source": [
    "### import modules\n",
    "%matplotlib inline\n",
    "\n",
    "import numpy as np\n",
    "import matplotlib.pyplot as plt\n",
    "from sklearn.linear_model import LinearRegression\n",
    "from scipy import stats"
   ]
  },
  {
   "cell_type": "code",
   "execution_count": 4,
   "metadata": {
    "collapsed": false
   },
   "outputs": [
    {
     "data": {
      "image/png": "[encoded data removed]",
      "text/plain": [
       "<matplotlib.figure.Figure at 0x10c3c9ac8>"
      ]
     },
     "metadata": {},
     "output_type": "display_data"
    },
    {
     "name": "stdout",
     "output_type": "stream",
     "text": [
      "slope :  5.4371 standard error :  0.426\n"
     ]
    }
   ],
   "source": [
    "### create samples\n",
    "sample_size = 10\n",
    "err_sigma = 3\n",
    "\n",
    "### generate data points\n",
    "x = np.random.rand(sample_size, 1)*10\n",
    "err = err_sigma*np.random.randn(sample_size, 1)\n",
    "y = 5 * x  + err\n",
    "\n",
    "### train a linear regression model\n",
    "slope, intercept, r_value, p_value, std_err = stats.linregress(x.flatten(),y.flatten())\n",
    "\n",
    "### make predictions\n",
    "xt = np.linspace(0.0, 10, num=1000).reshape((1000, 1))\n",
    "yt = xt*slope + intercept\n",
    "\n",
    "### plot samples and regression result\n",
    "plt.plot(x, y, \"o\")\n",
    "plt.plot(xt, yt)\n",
    "plt.title(\"y = 5x + error\")\n",
    "plt.xlabel(\"x\")\n",
    "plt.ylabel(\"y\")\n",
    "plt.show()\n",
    "\n",
    "### estimate coeffieients of the regression\n",
    "print( \"slope : \", round(slope,4), \"standard error : \", round(std_err,4) )"
   ]
  },
  {
   "cell_type": "markdown",
   "metadata": {},
   "source": [
    "標準誤差が大きいため、係数の推測結果はセルの実行毎に大きく変わることに注意して下さい。\n",
    "\n",
    "次にデータ数を100個にした場合を見てみましょう。"
   ]
  },
  {
   "cell_type": "code",
   "execution_count": 5,
   "metadata": {
    "collapsed": false
   },
   "outputs": [
    {
     "data": {
      "image/png": "[encoded data removed]",
      "text/plain": [
       "<matplotlib.figure.Figure at 0x10c4752e8>"
      ]
     },
     "metadata": {},
     "output_type": "display_data"
    },
    {
     "name": "stdout",
     "output_type": "stream",
     "text": [
      "slope :  5.061 standard error :  0.1042\n"
     ]
    }
   ],
   "source": [
    "### create samples\n",
    "sample_size = 100\n",
    "err_sigma = 3\n",
    "\n",
    "### generate data points\n",
    "x = np.random.rand(sample_size, 1)*10\n",
    "err = err_sigma*np.random.randn(sample_size, 1)\n",
    "y = 5 * x  + err\n",
    "\n",
    "### train a linear regression model\n",
    "#reg = LinearRegression()\n",
    "#reg.fit(x, y)\n",
    "slope, intercept, r_value, p_value, std_err = stats.linregress(x.flatten(),y.flatten())\n",
    "\n",
    "### make predictions\n",
    "xt = np.linspace(0.0, 10, num=1000).reshape((1000, 1))\n",
    "yt = xt*slope + intercept\n",
    "\n",
    "### plot samples and regression result\n",
    "plt.plot(x, y, \"o\")\n",
    "plt.plot(xt, yt)\n",
    "plt.title(\"y = 5x + error\")\n",
    "plt.xlabel(\"x\")\n",
    "plt.ylabel(\"y\")\n",
    "plt.show()\n",
    "\n",
    "### estimate coeffieients of the regression\n",
    "print( \"slope : \", round(slope,4), \"standard error : \", round(std_err,4) )"
   ]
  },
  {
   "cell_type": "markdown",
   "metadata": {},
   "source": [
    "データ数を増やすと誤差は減り、推測の精度が高まっていることが見て取れます。\n",
    "これは非常に簡単な例ですが、データ量によってパフォーマンスが高まるという機械学習の本質的な性質を示しています。\n",
    "\n",
    "興味がある方は更にデータ数を増やし、データ数と誤差の数学的な関係を考えてみるとよいでしょう。"
   ]
  },
  {
   "cell_type": "code",
   "execution_count": null,
   "metadata": {
    "collapsed": true
   },
   "outputs": [],
   "source": []
  }
 ],
 "metadata": {
  "anaconda-cloud": {},
  "kernelspec": {
   "display_name": "Python [Root]",
   "language": "python",
   "name": "Python [Root]"
  },
  "language_info": {
   "codemirror_mode": {
    "name": "ipython",
    "version": 3
   },
   "file_extension": ".py",
   "mimetype": "text/x-python",
   "name": "python",
   "nbconvert_exporter": "python",
   "pygments_lexer": "ipython3",
   "version": "3.5.2"
  }
 },
 "nbformat": 4,
 "nbformat_minor": 0
}
