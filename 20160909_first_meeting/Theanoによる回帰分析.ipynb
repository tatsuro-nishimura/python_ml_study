{
 "cells": [
  {
   "cell_type": "markdown",
   "metadata": {},
   "source": [
    "<h1>Theanoによる回帰分析</h1>"
   ]
  },
  {
   "cell_type": "code",
   "execution_count": 120,
   "metadata": {
    "collapsed": false
   },
   "outputs": [],
   "source": [
    "%matplotlib inline\n",
    "import theano.tensor as T\n",
    "import numpy as np\n",
    "import theano\n",
    "import matplotlib.pyplot as plt\n",
    "from sklearn.utils import shuffle"
   ]
  },
  {
   "cell_type": "markdown",
   "metadata": {},
   "source": [
    "<h2>人口データの作成</h2>"
   ]
  },
  {
   "cell_type": "markdown",
   "metadata": {},
   "source": [
    "<h3>各種セッティング</h3>"
   ]
  },
  {
   "cell_type": "code",
   "execution_count": 271,
   "metadata": {
    "collapsed": true
   },
   "outputs": [],
   "source": [
    "N = 1000   #データ数\n",
    "true_coef = np.array([2., 3., 12. , 5. , 4.], dtype = np.float32)\n",
    "A_shape = len(true_coef)\n",
    "test_size = 0.3\n",
    "idx = np.arange(N)\n",
    "train_idx = idx[:int(N*(1-test_size))]\n",
    "test_idx = idx[int(N*test_size): ]"
   ]
  },
  {
   "cell_type": "markdown",
   "metadata": {},
   "source": [
    "<h3>データの生成</h3>"
   ]
  },
  {
   "cell_type": "code",
   "execution_count": 272,
   "metadata": {
    "collapsed": true
   },
   "outputs": [],
   "source": [
    "X_data = np.c_[np.ones(N), np.random.randn(N,4)]\n",
    "X_data = X_data.astype(np.float32)\n",
    "z_data = np.random.randn(N)\n",
    "z_data = z_data.astype(np.float32)\n",
    "y_data = X_data.dot(true_coef) + z_data"
   ]
  },
  {
   "cell_type": "markdown",
   "metadata": {},
   "source": [
    "<h3>学習データとテストデータの分割</h3>"
   ]
  },
  {
   "cell_type": "code",
   "execution_count": 273,
   "metadata": {
    "collapsed": false
   },
   "outputs": [],
   "source": [
    "X_data, y_data  = shuffle(X_data, y_data)\n",
    "X_train = X_data[train_idx]\n",
    "y_train = y_data[train_idx]\n",
    "X_test = X_data[test_idx]\n",
    "y_test = y_data[test_idx]"
   ]
  },
  {
   "cell_type": "markdown",
   "metadata": {},
   "source": [
    "<h2>Theanoによる計算式作成</h2>"
   ]
  },
  {
   "cell_type": "markdown",
   "metadata": {},
   "source": [
    "<h3> 必要な入れ物と更新式の用意</h3>\n",
    "<p> 回帰分析のモデルは、$y  = XA + \\epsilon (Xは(n, m)の行列, Aはmのベクトル）$　で、目的関数: $\\Sigma(y_{実際} - y_{推定})^2$　を最小化します。\n",
    "そこで必要な入れ物は、XとYとAです。XとYはデータで、学習過程でAを調整して目的関数が最小になるようにしていきます。\n",
    "Theanoでは、アップデートしていく変数をsharedで定義し、データとして与える入れ物はtheano.tensor（ここではTという名前）で定義します。</p>"
   ]
  },
  {
   "cell_type": "code",
   "execution_count": 290,
   "metadata": {
    "collapsed": true
   },
   "outputs": [],
   "source": [
    "X = T.matrix('X', dtype = 'float32')\n",
    "y = T.vector('y', dtype = 'float32')\n",
    "A = theano.shared(np.random.randn(A_shape))\n",
    "dA = theano.shared(np.zeros(A_shape, dtype=np.float32), 'dA')\n",
    "#decay_step = theano.shared(np.float32(1.0), 'decay_step' )"
   ]
  },
  {
   "cell_type": "markdown",
   "metadata": {},
   "source": [
    "<p>素直に上の式でモデルと目的関数を定義すると以下のようになります</p>"
   ]
  },
  {
   "cell_type": "code",
   "execution_count": 291,
   "metadata": {
    "collapsed": true
   },
   "outputs": [],
   "source": [
    "y_hat = X.dot(A)\n",
    "cost = ((y - y_hat)**2).sum()"
   ]
  },
  {
   "cell_type": "markdown",
   "metadata": {},
   "source": [
    "<p>パラメータであるAをどのように更新するかというとGradient Descent(勾配法）で更新していきます。勾配法では、目的関数をパラメータで微分しないといけないのですが、Theanoには、gradという自動で微分をしてくれる機能がありますので、それを使うと簡単にかけます。$lr$はLearning Rate（学習率）でどのくらい更新していくかを決めるものです。</p>"
   ]
  },
  {
   "cell_type": "code",
   "execution_count": 292,
   "metadata": {
    "collapsed": false
   },
   "outputs": [],
   "source": [
    "lr = 1e-7\n",
    "mu = 0.01\n",
    "#update_A = A - lr*T.grad(cost, A)\n",
    "update_A = A + mu * dA -  lr*T.grad(cost, A)\n",
    "#update_A = A + mu * dA -  (lr*1.0/decay_step) * T.grad(cost, A)\n"
   ]
  },
  {
   "cell_type": "markdown",
   "metadata": {},
   "source": [
    "<h3>実際に学習していくための関数を作成</h3>\n",
    "<p>theano.functionという関数を使って学習するための関数を作ります。データとして与えるインプット、更新する対象の変数を定義します。さらに、ちゃんと学習過程で目的関数が小さくなっていくのかを見るためにget_predicttion関数を作ります</p>"
   ]
  },
  {
   "cell_type": "code",
   "execution_count": 294,
   "metadata": {
    "collapsed": false
   },
   "outputs": [],
   "source": [
    "train = theano.function(inputs = [X, y],\n",
    "                   updates = [(A, update_A),\n",
    "                             #(decay_step, decay_step+np.float32(0.1))\n",
    "                             ])\n",
    "\n",
    "get_prediction = theano.function(\n",
    "        inputs=[X, y],\n",
    "        outputs=[cost, y_hat],\n",
    "    )"
   ]
  },
  {
   "cell_type": "markdown",
   "metadata": {},
   "source": [
    "<h3>さあ、いよいよ学習です</h3>"
   ]
  },
  {
   "cell_type": "markdown",
   "metadata": {},
   "source": [
    "<p>どのくらい学習させるのかと同時に目的関数の出力値の出力間隔を決めます</p>"
   ]
  },
  {
   "cell_type": "code",
   "execution_count": 295,
   "metadata": {
    "collapsed": true
   },
   "outputs": [],
   "source": [
    "epochs = 3000\n",
    "print_period= 100"
   ]
  },
  {
   "cell_type": "markdown",
   "metadata": {},
   "source": [
    "<p>MSEを計算する関数も作っておきましょう</p>"
   ]
  },
  {
   "cell_type": "code",
   "execution_count": 296,
   "metadata": {
    "collapsed": true
   },
   "outputs": [],
   "source": [
    "def get_mse(y_pred, y_true):\n",
    "    return sum((y_pred - y_true)**2)/len(y_pred)"
   ]
  },
  {
   "cell_type": "markdown",
   "metadata": {},
   "source": [
    "<p>それでは学習です</p>"
   ]
  },
  {
   "cell_type": "code",
   "execution_count": 297,
   "metadata": {
    "collapsed": false
   },
   "outputs": [
    {
     "name": "stdout",
     "output_type": "stream",
     "text": [
      "Cost at iteration i=0 : 119893.466 / 171.276\n",
      "Cost at iteration i=100 : 116970.496 / 167.101\n",
      "Cost at iteration i=200 : 114119.904 / 163.028\n",
      "Cost at iteration i=300 : 111339.877 / 159.057\n",
      "Cost at iteration i=400 : 108628.648 / 155.184\n",
      "Cost at iteration i=500 : 105984.497 / 151.406\n",
      "Cost at iteration i=600 : 103405.745 / 147.722\n",
      "Cost at iteration i=700 : 100890.756 / 144.130\n",
      "Cost at iteration i=800 : 98437.936 / 140.626\n",
      "Cost at iteration i=900 : 96045.732 / 137.208\n",
      "Cost at iteration i=1000 : 93712.629 / 133.875\n",
      "Cost at iteration i=1100 : 91437.151 / 130.625\n",
      "Cost at iteration i=1200 : 89217.858 / 127.454\n",
      "Cost at iteration i=1300 : 87053.350 / 124.362\n",
      "Cost at iteration i=1400 : 84942.258 / 121.346\n",
      "Cost at iteration i=1500 : 82883.249 / 118.405\n",
      "Cost at iteration i=1600 : 80875.026 / 115.536\n",
      "Cost at iteration i=1700 : 78916.322 / 112.738\n",
      "Cost at iteration i=1800 : 77005.903 / 110.008\n",
      "Cost at iteration i=1900 : 75142.565 / 107.347\n",
      "Cost at iteration i=2000 : 73325.137 / 104.750\n",
      "Cost at iteration i=2100 : 71552.474 / 102.218\n",
      "Cost at iteration i=2200 : 69823.464 / 99.748\n",
      "Cost at iteration i=2300 : 68137.018 / 97.339\n",
      "Cost at iteration i=2400 : 66492.079 / 94.989\n",
      "Cost at iteration i=2500 : 64887.615 / 92.697\n",
      "Cost at iteration i=2600 : 63322.618 / 90.461\n",
      "Cost at iteration i=2700 : 61796.108 / 88.280\n",
      "Cost at iteration i=2800 : 60307.129 / 86.153\n",
      "Cost at iteration i=2900 : 58854.748 / 84.078\n"
     ]
    }
   ],
   "source": [
    "cost_history = []\n",
    "decay_step = 0\n",
    "for i in xrange(epochs):\n",
    "    train(X_train, y_train)\n",
    "    if i % print_period == 0:\n",
    "        cost_val, prediction_val = get_prediction(X_test, y_test)\n",
    "        err = get_mse(prediction_val, y_test)\n",
    "        print \"Cost at iteration i=%d : %.3f / %.3f\" % (i, cost_val, err)\n",
    "        cost_history.append(cost_val)"
   ]
  },
  {
   "cell_type": "code",
   "execution_count": 298,
   "metadata": {
    "collapsed": false
   },
   "outputs": [
    {
     "data": {
      "text/plain": [
       "[<matplotlib.lines.Line2D at 0x10c8a3350>]"
      ]
     },
     "execution_count": 298,
     "metadata": {},
     "output_type": "execute_result"
    },
    {
     "data": {
      "image/png": "[encoded data removed]",
      "text/plain": [
       "<matplotlib.figure.Figure at 0x10c84c710>"
      ]
     },
     "metadata": {},
     "output_type": "display_data"
    }
   ],
   "source": [
    "plt.plot(cost_history)"
   ]
  },
  {
   "cell_type": "code",
   "execution_count": 299,
   "metadata": {
    "collapsed": false
   },
   "outputs": [
    {
     "data": {
      "text/plain": [
       "array([ 0.00517866,  0.70440381,  5.16063607,  0.45998349,  0.76195356])"
      ]
     },
     "execution_count": 299,
     "metadata": {},
     "output_type": "execute_result"
    }
   ],
   "source": [
    "A.get_value()"
   ]
  },
  {
   "cell_type": "code",
   "execution_count": null,
   "metadata": {
    "collapsed": true
   },
   "outputs": [],
   "source": []
  },
  {
   "cell_type": "code",
   "execution_count": null,
   "metadata": {
    "collapsed": true
   },
   "outputs": [],
   "source": []
  }
 ],
 "metadata": {
  "kernelspec": {
   "display_name": "Python 2",
   "language": "python",
   "name": "python2"
  },
  "language_info": {
   "codemirror_mode": {
    "name": "ipython",
    "version": 2
   },
   "file_extension": ".py",
   "mimetype": "text/x-python",
   "name": "python",
   "nbconvert_exporter": "python",
   "pygments_lexer": "ipython2",
   "version": "2.7.12"
  }
 },
 "nbformat": 4,
 "nbformat_minor": 1
}
